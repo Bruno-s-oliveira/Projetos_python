#importando as bibliotecas
import pandas as pd
import win32com.client as win32
from selenium import webdriver
from selenium.webdriver.common.keys import Keys
import time
from PyQt5 import uic, QtWidgets


# função para o botão da primeira interface 
def clicar():

    login.close()

# função para o botão da segunda interface 
def fim():

    login_fim.close()
    

# interface criada no qt designer passando o objeto GUI
app = QtWidgets.QApplication([])

# atribuindo a primeira interface criada no qt designer para uma variável
login = uic.loadUi("login.ui")

# atribuindo a segunda interface criada no qt designer para uma variável
login_fim = uic.loadUi("login_fim.ui")

# atribuindo o botão da primeira interface para uma variável
login.pushButton.clicked.connect(clicar)

# atribuindo o botão da segunda interface para uma variável
login_fim.pushButton.clicked.connect(fim)

# codificando as informações da segunda variável como senha para ficar ilegível (trata-se de uma senha)
login.lineEdit_2.setEchoMode(QtWidgets.QLineEdit.Password)

# abrindo a primeira interface
login.show()
app.exec()

# atribuindo o usuário e senha para as variáveis 
user = login.lineEdit.text()
senha = login.lineEdit_2.text()

# lendo a base que quero pesquisar os números de IMEI
df = pd.read_excel('base_IMEI.xlsx')

# atribuindo a coluna de IMEI para uma variáril
lista_IMEI = df.serial_number

# transformando a variavel com os números de IMEI em uma lista
lista_IMEI = list(lista_IMEI)

# criando duas listas vazias para receber os dados da consulta web
status_blacklist = []
historico = []

# atribuindo o drive de navegação para uma variável 
navegador = webdriver.Chrome()

# abrir o GSMA no chrome
site = 'endereço do site'
navegador.get(site)
time.sleep(8)

# acessar o campo login e inserir o login
navegador.find_element_by_xpath('//*[@id="okta-signin-username"]').send_keys(user)
time.sleep(2)

# apertar o botão para ir para senhas
navegador.find_element_by_xpath('/html/body/div[2]/div/main/div[2]/div/div/form/div[2]/input').click()
time.sleep(5)

# acessar o campo de senha
navegador.find_element_by_xpath('/html/body/div[2]/div/main/div[2]/div/div/form/div[1]/div[2]/div/div[2]/span/input').send_keys(senha)
time.sleep(2)


# apertar enter
navegador.find_element_by_xpath('/html/body/div[2]/div/main/div[2]/div/div/form/div[2]/input').click()
time.sleep(10)

# inseri o IMEI no campo IMEI
navegador.find_element_by_xpath('/html/body/app/div[1]/div/div[2]/form/div/input').send_keys(lista_IMEI[0])
time.sleep(2)

# aperta o botão de pesquisa(SEARCH)
navegador.find_element_by_xpath('/html/body/app/div[1]/div/div[2]/form/button').click()
time.sleep(8)

#Atualizar a página para não dar bug
navegador.refresh()
time.sleep(10)


# Um looping para percorer todos os imeis da base
for i in lista_IMEI:

    # inseri o IMEI no campo IMEI
    navegador.find_element_by_xpath('/html/body/app/div[1]/div/div[2]/form/div/input').send_keys(i)
    time.sleep(0.5)

    # aperta o botão de pesquisa(SEARCH)
    navegador.find_element_by_xpath('/html/body/app/div[1]/div/div[2]/form/button').click()
    time.sleep(7)

    # coleta o status do IMEI
    status_blacklist.append(navegador.find_element_by_xpath('/html/body/app/div[1]/div/div[3]/li[1]').text)
    time.sleep(0.5)

    # abre o histórico
    navegador.find_element_by_xpath('/html/body/app/div[1]/div/div[3]/div/div/div[1]/span').click()
    time.sleep(1)

    # coleta o histórico
    historico.append(navegador.find_element_by_xpath('/html/body/app/div[1]/div/div[3]/div/div/div[2]/table').text)
    time.sleep(0.5)

    # limpa o campo IMEI
    navegador.find_element_by_xpath('/html/body/app/div[1]/div/div[2]/form/div/input').clear()
    time.sleep(2)

# inserindo asconsultas no dataset
df.insert(3, "status", status_blacklist, True)
df.insert(4, "historico", historico, True)

# criando o dataset de saída com os resultados
df.to_excel('base_IMEI_status.xlsx', index=False)

# finalizando o drive de navegação
navegador.quit()

# mostrando segunda interface com a tela de finalizado e botão de fechamento da aplicação 
login_fim.show()
app.exec()
